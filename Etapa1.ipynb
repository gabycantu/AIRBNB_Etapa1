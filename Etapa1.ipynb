{
 "cells": [
  {
   "cell_type": "code",
   "execution_count": 1,
   "metadata": {},
   "outputs": [],
   "source": [
    "import pandas as pd\n",
    "import numpy as np\n",
    "import matplotlib.pyplot as plt"
   ]
  },
  {
   "cell_type": "code",
   "execution_count": null,
   "metadata": {},
   "outputs": [],
   "source": [
    "#Carga desde un archivo .csv sin indice\n",
    "data= pd.read_csv('airbnb.csv',encoding='ISO-8859-1') \n",
    "data"
   ]
  },
  {
   "cell_type": "code",
   "execution_count": null,
   "metadata": {},
   "outputs": [],
   "source": [
    "#Identificar valores nulos\n",
    "valores_nulos=data.isnull().sum()\n",
    "valores_nulos"
   ]
  },
  {
   "cell_type": "code",
   "execution_count": 8,
   "metadata": {},
   "outputs": [],
   "source": [
    "#Rellenar los valores nulos con el objeto \"anterior de la columna\"\n",
    "data[\"host_name\"]= data[\"host_name\"].fillna(method=\"bfill\") \n",
    "data"
   ]
  },
  {
   "cell_type": "code",
   "execution_count": null,
   "metadata": {},
   "outputs": [],
   "source": [
    "#Comprobar corrección de valores nulos\n",
    "valores_nulos=data.isnull().sum()\n",
    "valores_nulos"
   ]
  },
  {
   "cell_type": "code",
   "execution_count": null,
   "metadata": {},
   "outputs": [],
   "source": [
    "#Rellenar los valores nulos con el objeto \"posterior\" de la columna\n",
    "data[\"neighbourhood\"]= data[\"neighbourhood\"].fillna(method=\"ffill\") \n",
    "data"
   ]
  },
  {
   "cell_type": "code",
   "execution_count": null,
   "metadata": {},
   "outputs": [],
   "source": [
    "#Comprobar corrección de valores nulos\n",
    "valores_nulos=data.isnull().sum()\n",
    "valores_nulos"
   ]
  },
  {
   "cell_type": "code",
   "execution_count": null,
   "metadata": {},
   "outputs": [],
   "source": [
    "#Rellenar con el valor de media de la columna los valores nulos de la columna\n",
    "data[\"latitude\"]=data[\"latitude\"].fillna(round(data[\"latitude\"].mean(),1))\n",
    "data"
   ]
  },
  {
   "cell_type": "code",
   "execution_count": null,
   "metadata": {},
   "outputs": [],
   "source": [
    "#Comprobar corrección de valores nulos\n",
    "valores_nulos=data.isnull().sum()\n",
    "valores_nulos"
   ]
  },
  {
   "cell_type": "code",
   "execution_count": null,
   "metadata": {},
   "outputs": [],
   "source": [
    "#Rellenar con el valor de mediana de la columna los valores nulos de la columna\n",
    "data[\"longitude\"]=data[\"longitude\"].fillna(round(data[\"longitude\"].median(),1))\n",
    "data"
   ]
  },
  {
   "cell_type": "code",
   "execution_count": null,
   "metadata": {},
   "outputs": [],
   "source": [
    "#Comprobar corrección de valores nulos\n",
    "valores_nulos=data.isnull().sum()\n",
    "valores_nulos"
   ]
  },
  {
   "cell_type": "code",
   "execution_count": null,
   "metadata": {},
   "outputs": [],
   "source": [
    "#Rellenar valores nulos de la columna con string específico\n",
    "data[\"room_type\"]= data[\"room_type\"].fillna(\"Private room\") \n",
    "data"
   ]
  },
  {
   "cell_type": "code",
   "execution_count": null,
   "metadata": {},
   "outputs": [],
   "source": [
    "#Comprobar corrección de valores nulos\n",
    "valores_nulos=data.isnull().sum()\n",
    "valores_nulos"
   ]
  },
  {
   "cell_type": "code",
   "execution_count": null,
   "metadata": {},
   "outputs": [],
   "source": [
    "#Rellenar con el valor de media de la columna los valores nulos de la columna\n",
    "data[\"price\"]=data[\"price\"].fillna(round(data[\"price\"].mean(),1))\n",
    "data"
   ]
  },
  {
   "cell_type": "code",
   "execution_count": null,
   "metadata": {},
   "outputs": [],
   "source": [
    "#Comprobar corrección de valores nulos\n",
    "valores_nulos=data.isnull().sum()\n",
    "valores_nulos"
   ]
  },
  {
   "cell_type": "code",
   "execution_count": null,
   "metadata": {},
   "outputs": [],
   "source": [
    "#Rellenar valores nulos por un valor numérico en  concreto \n",
    "data[\"minimum_nights\"]= data[\"minimum_nights\"].fillna(1) \n",
    "data"
   ]
  },
  {
   "cell_type": "code",
   "execution_count": null,
   "metadata": {},
   "outputs": [],
   "source": [
    "#Comprobar corrección de valores nulos\n",
    "valores_nulos=data.isnull().sum()\n",
    "valores_nulos"
   ]
  },
  {
   "cell_type": "code",
   "execution_count": null,
   "metadata": {},
   "outputs": [],
   "source": [
    "#Rellenar valores nulos por un valor numérico en  concreto \n",
    "data[\"number_of_reviews\"]= data[\"number_of_reviews\"].fillna(0) \n",
    "data"
   ]
  },
  {
   "cell_type": "code",
   "execution_count": null,
   "metadata": {},
   "outputs": [],
   "source": [
    "#Comprobar corrección de valores nulos\n",
    "valores_nulos=data.isnull().sum()\n",
    "valores_nulos"
   ]
  },
  {
   "cell_type": "code",
   "execution_count": null,
   "metadata": {},
   "outputs": [],
   "source": [
    "#Rellenar valores nulos por un objeto en  concreto \n",
    "data[\"last_review\"]= data[\"last_review\"].fillna(\"31/12/2022\") \n",
    "data"
   ]
  },
  {
   "cell_type": "code",
   "execution_count": null,
   "metadata": {},
   "outputs": [],
   "source": [
    "#Comprobar corrección de valores nulos\n",
    "valores_nulos=data.isnull().sum()\n",
    "valores_nulos"
   ]
  },
  {
   "cell_type": "code",
   "execution_count": null,
   "metadata": {},
   "outputs": [],
   "source": [
    "#Rellenar con el valor de media de la columna los valores nulos de la columna\n",
    "data[\"reviews_per_month\"]=data[\"reviews_per_month\"].fillna(round(data[\"reviews_per_month\"].mean(),1))\n",
    "data"
   ]
  },
  {
   "cell_type": "code",
   "execution_count": null,
   "metadata": {},
   "outputs": [],
   "source": [
    "#Comprobar corrección de valores nulos\n",
    "valores_nulos=data.isnull().sum()\n",
    "valores_nulos"
   ]
  },
  {
   "cell_type": "code",
   "execution_count": null,
   "metadata": {},
   "outputs": [],
   "source": [
    "#Rellenar valores nulos por un valor numérico en  concreto \n",
    "data[\"calculated_host_listings_count\"]= data[\"calculated_host_listings_count\"].fillna(1) \n",
    "data"
   ]
  },
  {
   "cell_type": "code",
   "execution_count": null,
   "metadata": {},
   "outputs": [],
   "source": [
    "#Comprobar corrección de valores nulos\n",
    "valores_nulos=data.isnull().sum()\n",
    "valores_nulos"
   ]
  },
  {
   "cell_type": "code",
   "execution_count": null,
   "metadata": {},
   "outputs": [],
   "source": [
    "#Rellenar los valores nulos con el objeto \"anterior de la columna\"\n",
    "data[\"availability_365\"]= data[\"availability_365\"].fillna(method=\"bfill\") \n",
    "data"
   ]
  },
  {
   "cell_type": "code",
   "execution_count": null,
   "metadata": {},
   "outputs": [],
   "source": [
    "#Comprobar corrección de valores nulos\n",
    "valores_nulos=data.isnull().sum()\n",
    "valores_nulos"
   ]
  },
  {
   "cell_type": "code",
   "execution_count": null,
   "metadata": {},
   "outputs": [],
   "source": [
    "#Rellenar los valores nulos con el objeto \"anterior de la columna\"\n",
    "data[\"number_of_reviews_ltm\"]= data[\"number_of_reviews_ltm\"].fillna(method=\"bfill\") \n",
    "data"
   ]
  },
  {
   "cell_type": "code",
   "execution_count": null,
   "metadata": {},
   "outputs": [],
   "source": [
    "#Comprobar corrección de valores nulos\n",
    "valores_nulos=data.isnull().sum()\n",
    "valores_nulos"
   ]
  },
  {
   "cell_type": "code",
   "execution_count": null,
   "metadata": {},
   "outputs": [],
   "source": [
    "#Rellenar valores nulos por un string en concreto \n",
    "data[\"name\"]= data[\"name\"].fillna(\"Desconocido\") \n",
    "data"
   ]
  },
  {
   "cell_type": "code",
   "execution_count": null,
   "metadata": {},
   "outputs": [],
   "source": [
    "#Comprobar corrección de valores nulos\n",
    "valores_nulos=data.isnull().sum()\n",
    "valores_nulos"
   ]
  },
  {
   "cell_type": "code",
   "execution_count": null,
   "metadata": {},
   "outputs": [],
   "source": [
    "#Debido a que en la columna \"neighbourhood_group\" no hay ninguna entrada, se eliminará\n",
    "#Eliminamos columnas con nulos\n",
    "data=data.dropna(1)"
   ]
  },
  {
   "cell_type": "code",
   "execution_count": null,
   "metadata": {},
   "outputs": [],
   "source": [
    "#Comprobar corrección de valores nulos\n",
    "valores_nulos=data.isnull().sum()\n",
    "valores_nulos"
   ]
  },
  {
   "cell_type": "code",
   "execution_count": null,
   "metadata": {},
   "outputs": [],
   "source": [
    "#Asegurar que ya no hay datos nulos\n",
    "cuenta_nulos= data.isnull().sum().sum()\n",
    "cuenta_nulos"
   ]
  },
  {
   "cell_type": "code",
   "execution_count": null,
   "metadata": {},
   "outputs": [],
   "source": [
    "#Aplicación de método de distribución normal para identificar outliers, límites de 3 desviaciones estándar para variable latitude\n",
    "y1=data[\"latitude\"]\n",
    "limite_superior1= y1.mean() + 3*y1.std()\n",
    "limite_inferior1= y1.mean() - 3*y1.std()\n",
    "print(\"Limite superior permitido\", limite_superior1)\n",
    "print(\"Limite inferior permitido\", limite_inferior1)"
   ]
  },
  {
   "cell_type": "code",
   "execution_count": null,
   "metadata": {},
   "outputs": [],
   "source": [
    "#Identificar los outliers\n",
    "outliers1= data[(y1>limite_superior1)|(y1<limite_inferior1)]\n",
    "outliers1"
   ]
  },
  {
   "cell_type": "code",
   "execution_count": null,
   "metadata": {},
   "outputs": [],
   "source": [
    "#Realizar diagrama de caja\n",
    "fig1 = plt.figure(figsize =(6, 4))\n",
    "plt.boxplot(data[\"latitude\"]) \n",
    "plt.title(\"Outliers latitude\")\n",
    "plt.show() "
   ]
  },
  {
   "cell_type": "code",
   "execution_count": null,
   "metadata": {},
   "outputs": [],
   "source": [
    "#Aplicación de método de distribución normal para identificar outliers, límites de 3 desviaciones estándar para variable de longitude\n",
    "y2=data[\"longitude\"]\n",
    "limite_superior2= y2.mean() + 3*y2.std()\n",
    "limite_inferior2= y2.mean() - 3*y2.std()\n",
    "print(\"Limite superior permitido\", limite_superior2)\n",
    "print(\"Limite inferior permitido\", limite_inferior2)"
   ]
  },
  {
   "cell_type": "code",
   "execution_count": null,
   "metadata": {},
   "outputs": [],
   "source": [
    "#Encontramos outliers\n",
    "outliers2= data[(y2>limite_superior2)|(y2<limite_inferior2)]\n",
    "outliers2"
   ]
  },
  {
   "cell_type": "code",
   "execution_count": null,
   "metadata": {},
   "outputs": [],
   "source": [
    "#Realizamos diagrama de caja o bigote\n",
    "fig2 = plt.figure(figsize =(6, 4))\n",
    "plt.boxplot(data[\"longitude\"]) \n",
    "plt.title(\"Outliers de longitude\")\n",
    "plt.show() "
   ]
  },
  {
   "cell_type": "code",
   "execution_count": null,
   "metadata": {},
   "outputs": [],
   "source": [
    "#Aplicación de método de distribución normal para identificar outliers, límites de 3 desviaciones estándar para variable de price\n",
    "y3=data[\"price\"]\n",
    "limite_superior3= y3.mean() + 3*y3.std()\n",
    "limite_inferior3= y3.mean() - 3*y3.std()\n",
    "print(\"Limite superior permitido\", limite_superior3)\n",
    "print(\"Limite inferior permitido\", limite_inferior3)"
   ]
  },
  {
   "cell_type": "code",
   "execution_count": null,
   "metadata": {},
   "outputs": [],
   "source": [
    "#Encontramos outliers\n",
    "outliers3= data[(y3>limite_superior3)|(y3<limite_inferior3)]\n",
    "outliers3"
   ]
  },
  {
   "cell_type": "code",
   "execution_count": null,
   "metadata": {},
   "outputs": [],
   "source": [
    "#Realizamos diagrama de caja o bigote\n",
    "fig3 = plt.figure(figsize =(6, 4))\n",
    "plt.boxplot(data[\"price\"]) \n",
    "plt.title(\"Outliers de price\")\n",
    "plt.show() "
   ]
  },
  {
   "cell_type": "code",
   "execution_count": null,
   "metadata": {},
   "outputs": [],
   "source": [
    "#Aplicación de método de distribución normal para identificar outliers, límites de 3 desviaciones estándar para variable de minimum nights\n",
    "y4=data[\"minimum_nights\"]\n",
    "limite_superior4= y4.mean() + 3*y4.std()\n",
    "limite_inferior4= y4.mean() - 3*y4.std()\n",
    "print(\"Limite superior permitido\", limite_superior4)\n",
    "print(\"Limite inferior permitido\", limite_inferior4)"
   ]
  },
  {
   "cell_type": "code",
   "execution_count": null,
   "metadata": {},
   "outputs": [],
   "source": [
    "#Encontramos outliers\n",
    "outliers4= data[(y4>limite_superior4)|(y4<limite_inferior4)]\n",
    "outliers4"
   ]
  },
  {
   "cell_type": "code",
   "execution_count": null,
   "metadata": {},
   "outputs": [],
   "source": [
    "#Realizamos diagrama de caja o bigote\n",
    "fig4 = plt.figure(figsize =(6, 4))\n",
    "plt.boxplot(data[\"minimum_nights\"]) \n",
    "plt.title(\"Outliers de minimum nights\")\n",
    "plt.show() "
   ]
  },
  {
   "cell_type": "code",
   "execution_count": null,
   "metadata": {},
   "outputs": [],
   "source": [
    "#Aplicación de método de distribución normal para identificar outliers, límites de 3 desviaciones estándar para variable de number of reviews\n",
    "y5=data[\"number_of_reviews\"]\n",
    "limite_superior5= y5.mean() + 3*y5.std()\n",
    "limite_inferior5= y5.mean() - 3*y5.std()\n",
    "print(\"Limite superior permitido\", limite_superior5)\n",
    "print(\"Limite inferior permitido\", limite_inferior5)"
   ]
  },
  {
   "cell_type": "code",
   "execution_count": null,
   "metadata": {},
   "outputs": [],
   "source": [
    "#Encontramos outliers\n",
    "outliers5= data[(y5>limite_superior5)|(y5<limite_inferior5)]\n",
    "outliers5"
   ]
  },
  {
   "cell_type": "code",
   "execution_count": null,
   "metadata": {},
   "outputs": [],
   "source": [
    "#Realizamos diagrama de caja o bigote\n",
    "fig5 = plt.figure(figsize =(6, 4))\n",
    "plt.boxplot(data[\"number_of_reviews\"]) \n",
    "plt.title(\"Outliers de number of reviews\")\n",
    "plt.show() "
   ]
  },
  {
   "cell_type": "code",
   "execution_count": null,
   "metadata": {},
   "outputs": [],
   "source": [
    "#Aplicación de método de distribución normal para identificar outliers, límites de 3 desviaciones estándar para variable de reviews per month\n",
    "y6=data[\"reviews_per_month\"]\n",
    "limite_superior6= y6.mean() + 3*y6.std()\n",
    "limite_inferior6= y6.mean() - 3*y6.std()\n",
    "print(\"Limite superior permitido\", limite_superior6)\n",
    "print(\"Limite inferior permitido\", limite_inferior6)"
   ]
  },
  {
   "cell_type": "code",
   "execution_count": null,
   "metadata": {},
   "outputs": [],
   "source": [
    "#Encontramos outliers\n",
    "outliers6= data[(y6>limite_superior6)|(y6<limite_inferior6)]\n",
    "outliers6"
   ]
  },
  {
   "cell_type": "code",
   "execution_count": null,
   "metadata": {},
   "outputs": [],
   "source": [
    "#Realizamos diagrama de caja o bigote\n",
    "fig6 = plt.figure(figsize =(6, 4))\n",
    "plt.boxplot(data[\"reviews_per_month\"]) \n",
    "plt.title(\"Outliers de reviews per month\")\n",
    "plt.show() "
   ]
  },
  {
   "cell_type": "code",
   "execution_count": null,
   "metadata": {},
   "outputs": [],
   "source": []
  }
 ],
 "metadata": {
  "kernelspec": {
   "display_name": "Python 3.10.6 64-bit",
   "language": "python",
   "name": "python3"
  },
  "language_info": {
   "codemirror_mode": {
    "name": "ipython",
    "version": 3
   },
   "file_extension": ".py",
   "mimetype": "text/x-python",
   "name": "python",
   "nbconvert_exporter": "python",
   "pygments_lexer": "ipython3",
   "version": "3.10.6"
  },
  "orig_nbformat": 4,
  "vscode": {
   "interpreter": {
    "hash": "aee8b7b246df8f9039afb4144a1f6fd8d2ca17a180786b69acc140d282b71a49"
   }
  }
 },
 "nbformat": 4,
 "nbformat_minor": 2
}
