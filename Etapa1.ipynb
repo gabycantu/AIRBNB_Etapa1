{
 "cells": [
  {
   "cell_type": "code",
   "execution_count": 1,
   "metadata": {},
   "outputs": [],
   "source": [
    "import pandas as pd\n",
    "import numpy as np\n",
    "import matplotlib.pyplot as plt"
   ]
  },
  {
   "cell_type": "code",
   "execution_count": null,
   "metadata": {},
   "outputs": [],
   "source": [
    "#Carga desde un archivo .csv sin indice\n",
    "data= pd.read_csv('airbnb.csv',encoding='ISO-8859-1') \n",
    "data"
   ]
  },
  {
   "cell_type": "code",
   "execution_count": null,
   "metadata": {},
   "outputs": [],
   "source": [
    "#Identificar valores nulos\n",
    "valores_nulos=data.isnull().sum()\n",
    "valores_nulos"
   ]
  },
  {
   "cell_type": "code",
   "execution_count": 8,
   "metadata": {},
   "outputs": [],
   "source": [
    "#Rellenar los valores nulos con el objeto \"anterior de la columna\"\n",
    "data[\"host_name\"]= data[\"host_name\"].fillna(method=\"bfill\") \n",
    "data"
   ]
  },
  {
   "cell_type": "code",
   "execution_count": null,
   "metadata": {},
   "outputs": [],
   "source": [
    "#Comprobar corrección de valores nulos\n",
    "valores_nulos=data.isnull().sum()\n",
    "valores_nulos"
   ]
  },
  {
   "cell_type": "code",
   "execution_count": null,
   "metadata": {},
   "outputs": [],
   "source": [
    "#Rellenar los valores nulos con el objeto \"posterior\" de la columna\n",
    "data[\"neighbourhood\"]= data[\"neighbourhood\"].fillna(method=\"ffill\") \n",
    "data"
   ]
  },
  {
   "cell_type": "code",
   "execution_count": null,
   "metadata": {},
   "outputs": [],
   "source": [
    "#Comprobar corrección de valores nulos\n",
    "valores_nulos=data.isnull().sum()\n",
    "valores_nulos"
   ]
  },
  {
   "cell_type": "code",
   "execution_count": null,
   "metadata": {},
   "outputs": [],
   "source": [
    "#Rellenar con el valor de media de la columna los valores nulos de la columna\n",
    "data[\"latitude\"]=data[\"latitude\"].fillna(round(data[\"latitude\"].mean(),1))\n",
    "data"
   ]
  },
  {
   "cell_type": "code",
   "execution_count": null,
   "metadata": {},
   "outputs": [],
   "source": [
    "#Comprobar corrección de valores nulos\n",
    "valores_nulos=data.isnull().sum()\n",
    "valores_nulos"
   ]
  },
  {
   "cell_type": "code",
   "execution_count": null,
   "metadata": {},
   "outputs": [],
   "source": [
    "#Rellenar con el valor de mediana de la columna los valores nulos de la columna\n",
    "data[\"longitude\"]=data[\"longitude\"].fillna(round(data[\"longitude\"].median(),1))\n",
    "data"
   ]
  },
  {
   "cell_type": "code",
   "execution_count": null,
   "metadata": {},
   "outputs": [],
   "source": [
    "#Comprobar corrección de valores nulos\n",
    "valores_nulos=data.isnull().sum()\n",
    "valores_nulos"
   ]
  },
  {
   "cell_type": "code",
   "execution_count": null,
   "metadata": {},
   "outputs": [],
   "source": [
    "#Rellenar valores nulos de la columna con string específico\n",
    "data[\"room_type\"]= data[\"room_type\"].fillna(\"Private room\") \n",
    "data"
   ]
  },
  {
   "cell_type": "code",
   "execution_count": null,
   "metadata": {},
   "outputs": [],
   "source": [
    "#Comprobar corrección de valores nulos\n",
    "valores_nulos=data.isnull().sum()\n",
    "valores_nulos"
   ]
  },
  {
   "cell_type": "code",
   "execution_count": null,
   "metadata": {},
   "outputs": [],
   "source": [
    "#Rellenar con el valor de media de la columna los valores nulos de la columna\n",
    "data[\"price\"]=data[\"price\"].fillna(round(data[\"price\"].mean(),1))\n",
    "data"
   ]
  },
  {
   "cell_type": "code",
   "execution_count": null,
   "metadata": {},
   "outputs": [],
   "source": [
    "#Comprobar corrección de valores nulos\n",
    "valores_nulos=data.isnull().sum()\n",
    "valores_nulos"
   ]
  },
  {
   "cell_type": "code",
   "execution_count": null,
   "metadata": {},
   "outputs": [],
   "source": [
    "#Rellenar valores nulos por un valor numérico en  concreto \n",
    "data[\"minimum_nights\"]= data[\"minimum_nights\"].fillna(1) \n",
    "data"
   ]
  },
  {
   "cell_type": "code",
   "execution_count": null,
   "metadata": {},
   "outputs": [],
   "source": [
    "#Comprobar corrección de valores nulos\n",
    "valores_nulos=data.isnull().sum()\n",
    "valores_nulos"
   ]
  },
  {
   "cell_type": "code",
   "execution_count": null,
   "metadata": {},
   "outputs": [],
   "source": [
    "#Rellenar valores nulos por un valor numérico en  concreto \n",
    "data[\"number_of_reviews\"]= data[\"number_of_reviews\"].fillna(0) \n",
    "data"
   ]
  },
  {
   "cell_type": "code",
   "execution_count": null,
   "metadata": {},
   "outputs": [],
   "source": [
    "#Comprobar corrección de valores nulos\n",
    "valores_nulos=data.isnull().sum()\n",
    "valores_nulos"
   ]
  },
  {
   "cell_type": "code",
   "execution_count": null,
   "metadata": {},
   "outputs": [],
   "source": [
    "#Rellenar valores nulos por un objeto en  concreto \n",
    "data[\"last_review\"]= data[\"last_review\"].fillna(\"31/12/2022\") \n",
    "data"
   ]
  },
  {
   "cell_type": "code",
   "execution_count": null,
   "metadata": {},
   "outputs": [],
   "source": [
    "#Comprobar corrección de valores nulos\n",
    "valores_nulos=data.isnull().sum()\n",
    "valores_nulos"
   ]
  },
  {
   "cell_type": "code",
   "execution_count": null,
   "metadata": {},
   "outputs": [],
   "source": [
    "#Rellenar con el valor de media de la columna los valores nulos de la columna\n",
    "data[\"reviews_per_month\"]=data[\"reviews_per_month\"].fillna(round(data[\"reviews_per_month\"].mean(),1))\n",
    "data"
   ]
  },
  {
   "cell_type": "code",
   "execution_count": null,
   "metadata": {},
   "outputs": [],
   "source": [
    "#Comprobar corrección de valores nulos\n",
    "valores_nulos=data.isnull().sum()\n",
    "valores_nulos"
   ]
  },
  {
   "cell_type": "code",
   "execution_count": null,
   "metadata": {},
   "outputs": [],
   "source": [
    "#Rellenar valores nulos por un valor numérico en  concreto \n",
    "data[\"calculated_host_listings_count\"]= data[\"calculated_host_listings_count\"].fillna(1) \n",
    "data"
   ]
  },
  {
   "cell_type": "code",
   "execution_count": null,
   "metadata": {},
   "outputs": [],
   "source": [
    "#Comprobar corrección de valores nulos\n",
    "valores_nulos=data.isnull().sum()\n",
    "valores_nulos"
   ]
  },
  {
   "cell_type": "code",
   "execution_count": null,
   "metadata": {},
   "outputs": [],
   "source": [
    "#Rellenar los valores nulos con el objeto \"anterior de la columna\"\n",
    "data[\"availability_365\"]= data[\"availability_365\"].fillna(method=\"bfill\") \n",
    "data"
   ]
  },
  {
   "cell_type": "code",
   "execution_count": null,
   "metadata": {},
   "outputs": [],
   "source": [
    "#Comprobar corrección de valores nulos\n",
    "valores_nulos=data.isnull().sum()\n",
    "valores_nulos"
   ]
  },
  {
   "cell_type": "code",
   "execution_count": null,
   "metadata": {},
   "outputs": [],
   "source": [
    "#Rellenar los valores nulos con el objeto \"anterior de la columna\"\n",
    "data[\"number_of_reviews_ltm\"]= data[\"number_of_reviews_ltm\"].fillna(method=\"bfill\") \n",
    "data"
   ]
  },
  {
   "cell_type": "code",
   "execution_count": null,
   "metadata": {},
   "outputs": [],
   "source": [
    "#Comprobar corrección de valores nulos\n",
    "valores_nulos=data.isnull().sum()\n",
    "valores_nulos"
   ]
  },
  {
   "cell_type": "code",
   "execution_count": null,
   "metadata": {},
   "outputs": [],
   "source": [
    "#Rellenar valores nulos por un string en concreto \n",
    "data[\"name\"]= data[\"name\"].fillna(\"Desconocido\") \n",
    "data"
   ]
  },
  {
   "cell_type": "code",
   "execution_count": null,
   "metadata": {},
   "outputs": [],
   "source": [
    "#Comprobar corrección de valores nulos\n",
    "valores_nulos=data.isnull().sum()\n",
    "valores_nulos"
   ]
  },
  {
   "cell_type": "code",
   "execution_count": null,
   "metadata": {},
   "outputs": [],
   "source": [
    "#Debido a que en la columna \"neighbourhood_group\" no hay ninguna entrada, se eliminará\n",
    "#Eliminamos columnas con nulos\n",
    "data=data.dropna(1)"
   ]
  },
  {
   "cell_type": "code",
   "execution_count": null,
   "metadata": {},
   "outputs": [],
   "source": [
    "#Comprobar corrección de valores nulos\n",
    "valores_nulos=data.isnull().sum()\n",
    "valores_nulos"
   ]
  },
  {
   "cell_type": "code",
   "execution_count": null,
   "metadata": {},
   "outputs": [],
   "source": [
    "#Asegurar que ya no hay datos nulos\n",
    "cuenta_nulos= data.isnull().sum().sum()\n",
    "cuenta_nulos"
   ]
  },
  {
   "cell_type": "code",
   "execution_count": null,
   "metadata": {},
   "outputs": [],
   "source": [
    "#Aplicación de método de distribución normal para identificar outliers, límites de 3 desviaciones estándar para variable latitude\n",
    "y1=data[\"latitude\"]\n",
    "limite_superior1= y1.mean() + 3*y1.std()\n",
    "limite_inferior1= y1.mean() - 3*y1.std()\n",
    "print(\"Limite superior permitido\", limite_superior1)\n",
    "print(\"Limite inferior permitido\", limite_inferior1)"
   ]
  },
  {
   "cell_type": "code",
   "execution_count": null,
   "metadata": {},
   "outputs": [],
   "source": [
    "#Identificar los outliers\n",
    "outliers1= data[(y1>limite_superior1)|(y1<limite_inferior1)]\n",
    "outliers1"
   ]
  },
  {
   "cell_type": "code",
   "execution_count": null,
   "metadata": {},
   "outputs": [],
   "source": [
    "#Realizar diagrama de caja\n",
    "fig1 = plt.figure(figsize =(6, 4))\n",
    "plt.boxplot(data[\"latitude\"]) \n",
    "plt.title(\"Outliers latitude\")\n",
    "plt.show() "
   ]
  },
  {
   "cell_type": "code",
   "execution_count": 79,
   "metadata": {},
   "outputs": [
    {
     "name": "stdout",
     "output_type": "stream",
     "text": [
      "Limite superior permitido -89.00097389354517\n",
      "Limite inferior permitido -109.32865504999904\n"
     ]
    }
   ],
   "source": [
    "#Aplicación de método de distribución normal para identificar outliers, límites de 3 desviaciones estándar para variable de longitude\n",
    "y2=data[\"longitude\"]\n",
    "limite_superior2= y2.mean() + 3*y2.std()\n",
    "limite_inferior2= y2.mean() - 3*y2.std()\n",
    "print(\"Limite superior permitido\", limite_superior2)\n",
    "print(\"Limite inferior permitido\", limite_inferior2)"
   ]
  },
  {
   "cell_type": "code",
   "execution_count": 77,
   "metadata": {},
   "outputs": [
    {
     "data": {
      "text/html": [
       "<div>\n",
       "<style scoped>\n",
       "    .dataframe tbody tr th:only-of-type {\n",
       "        vertical-align: middle;\n",
       "    }\n",
       "\n",
       "    .dataframe tbody tr th {\n",
       "        vertical-align: top;\n",
       "    }\n",
       "\n",
       "    .dataframe thead th {\n",
       "        text-align: right;\n",
       "    }\n",
       "</style>\n",
       "<table border=\"1\" class=\"dataframe\">\n",
       "  <thead>\n",
       "    <tr style=\"text-align: right;\">\n",
       "      <th></th>\n",
       "      <th>id</th>\n",
       "      <th>name</th>\n",
       "      <th>host_id</th>\n",
       "      <th>host_name</th>\n",
       "      <th>neighbourhood</th>\n",
       "      <th>latitude</th>\n",
       "      <th>longitude</th>\n",
       "      <th>room_type</th>\n",
       "      <th>price</th>\n",
       "      <th>minimum_nights</th>\n",
       "      <th>number_of_reviews</th>\n",
       "      <th>last_review</th>\n",
       "      <th>reviews_per_month</th>\n",
       "      <th>calculated_host_listings_count</th>\n",
       "      <th>availability_365</th>\n",
       "      <th>number_of_reviews_ltm</th>\n",
       "    </tr>\n",
       "  </thead>\n",
       "  <tbody>\n",
       "    <tr>\n",
       "      <th>12003</th>\n",
       "      <td>45519073.0</td>\n",
       "      <td>Spacious 3BR/3.5BATH in heart of Condesa</td>\n",
       "      <td>2593419</td>\n",
       "      <td>Katie</td>\n",
       "      <td>CuauhtÃ©moc</td>\n",
       "      <td>19.41882</td>\n",
       "      <td>-399.17598</td>\n",
       "      <td>Entire home/apt</td>\n",
       "      <td>3040.0</td>\n",
       "      <td>3.0</td>\n",
       "      <td>48.0</td>\n",
       "      <td>22/05/2022</td>\n",
       "      <td>2.65</td>\n",
       "      <td>1.0</td>\n",
       "      <td>165.0</td>\n",
       "      <td>44.0</td>\n",
       "    </tr>\n",
       "    <tr>\n",
       "      <th>12009</th>\n",
       "      <td>45454474.0</td>\n",
       "      <td>Bonito departamento cerca del Ãngel</td>\n",
       "      <td>303864680</td>\n",
       "      <td>Leidi Laura</td>\n",
       "      <td>CuauhtÃ©moc</td>\n",
       "      <td>19.42738</td>\n",
       "      <td>299.16998</td>\n",
       "      <td>Entire home/apt</td>\n",
       "      <td>2670.0</td>\n",
       "      <td>1.0</td>\n",
       "      <td>6.0</td>\n",
       "      <td>09/01/2022</td>\n",
       "      <td>0.28</td>\n",
       "      <td>8.0</td>\n",
       "      <td>359.0</td>\n",
       "      <td>1.0</td>\n",
       "    </tr>\n",
       "  </tbody>\n",
       "</table>\n",
       "</div>"
      ],
      "text/plain": [
       "               id                                      name    host_id  \\\n",
       "12003  45519073.0  Spacious 3BR/3.5BATH in heart of Condesa    2593419   \n",
       "12009  45454474.0      Bonito departamento cerca del Ãngel  303864680   \n",
       "\n",
       "         host_name neighbourhood  latitude  longitude        room_type  \\\n",
       "12003        Katie   CuauhtÃ©moc  19.41882 -399.17598  Entire home/apt   \n",
       "12009  Leidi Laura   CuauhtÃ©moc  19.42738  299.16998  Entire home/apt   \n",
       "\n",
       "        price  minimum_nights  number_of_reviews last_review  \\\n",
       "12003  3040.0             3.0               48.0  22/05/2022   \n",
       "12009  2670.0             1.0                6.0  09/01/2022   \n",
       "\n",
       "       reviews_per_month  calculated_host_listings_count  availability_365  \\\n",
       "12003               2.65                             1.0             165.0   \n",
       "12009               0.28                             8.0             359.0   \n",
       "\n",
       "       number_of_reviews_ltm  \n",
       "12003                   44.0  \n",
       "12009                    1.0  "
      ]
     },
     "execution_count": 77,
     "metadata": {},
     "output_type": "execute_result"
    }
   ],
   "source": [
    "#Encontramos outliers\n",
    "outliers2= data[(y2>limite_superior2)|(y2<limite_inferior2)]\n",
    "outliers2"
   ]
  },
  {
   "cell_type": "code",
   "execution_count": 76,
   "metadata": {},
   "outputs": [
    {
     "data": {
      "image/png": "[encoded data removed]",
      "text/plain": [
       "<Figure size 432x288 with 1 Axes>"
      ]
     },
     "metadata": {
      "needs_background": "light"
     },
     "output_type": "display_data"
    }
   ],
   "source": [
    "#Realizamos diagrama de caja o bigote\n",
    "fig2 = plt.figure(figsize =(6, 4))\n",
    "plt.boxplot(data[\"longitude\"]) \n",
    "plt.title(\"Outliers de longitude\")\n",
    "plt.show() "
   ]
  },
  {
   "cell_type": "code",
   "execution_count": null,
   "metadata": {},
   "outputs": [],
   "source": [
    "#Aplicación de método de distribución normal para identificar outliers, límites de 3 desviaciones estándar para variable de price\n",
    "y3=data[\"price\"]\n",
    "limite_superior3= y3.mean() + 3*y3.std()\n",
    "limite_inferior3= y3.mean() - 3*y3.std()\n",
    "print(\"Limite superior permitido\", limite_superior3)\n",
    "print(\"Limite inferior permitido\", limite_inferior3)"
   ]
  },
  {
   "cell_type": "code",
   "execution_count": null,
   "metadata": {},
   "outputs": [],
   "source": [
    "#Encontramos outliers\n",
    "outliers3= data[(y3>limite_superior3)|(y3<limite_inferior3)]\n",
    "outliers3"
   ]
  },
  {
   "cell_type": "code",
   "execution_count": null,
   "metadata": {},
   "outputs": [],
   "source": [
    "#Realizamos diagrama de caja o bigote\n",
    "fig3 = plt.figure(figsize =(6, 4))\n",
    "plt.boxplot(data[\"price\"]) \n",
    "plt.title(\"Outliers de price\")\n",
    "plt.show() "
   ]
  },
  {
   "cell_type": "code",
   "execution_count": null,
   "metadata": {},
   "outputs": [],
   "source": [
    "#Aplicación de método de distribución normal para identificar outliers, límites de 3 desviaciones estándar para variable de minimum nights\n",
    "y4=data[\"minimum_nights\"]\n",
    "limite_superior4= y4.mean() + 3*y4.std()\n",
    "limite_inferior4= y4.mean() - 3*y4.std()\n",
    "print(\"Limite superior permitido\", limite_superior4)\n",
    "print(\"Limite inferior permitido\", limite_inferior4)"
   ]
  },
  {
   "cell_type": "code",
   "execution_count": null,
   "metadata": {},
   "outputs": [],
   "source": [
    "#Encontramos outliers\n",
    "outliers4= data[(y4>limite_superior4)|(y4<limite_inferior4)]\n",
    "outliers4"
   ]
  },
  {
   "cell_type": "code",
   "execution_count": null,
   "metadata": {},
   "outputs": [],
   "source": [
    "#Realizamos diagrama de caja o bigote\n",
    "fig4 = plt.figure(figsize =(6, 4))\n",
    "plt.boxplot(data[\"minimum_nights\"]) \n",
    "plt.title(\"Outliers de minimum nights\")\n",
    "plt.show() "
   ]
  },
  {
   "cell_type": "code",
   "execution_count": null,
   "metadata": {},
   "outputs": [],
   "source": [
    "#Aplicación de método de distribución normal para identificar outliers, límites de 3 desviaciones estándar para variable de number of reviews\n",
    "y5=data[\"number_of_reviews\"]\n",
    "limite_superior5= y5.mean() + 3*y5.std()\n",
    "limite_inferior5= y5.mean() - 3*y5.std()\n",
    "print(\"Limite superior permitido\", limite_superior5)\n",
    "print(\"Limite inferior permitido\", limite_inferior5)"
   ]
  },
  {
   "cell_type": "code",
   "execution_count": null,
   "metadata": {},
   "outputs": [],
   "source": [
    "#Encontramos outliers\n",
    "outliers5= data[(y5>limite_superior5)|(y5<limite_inferior5)]\n",
    "outliers5"
   ]
  },
  {
   "cell_type": "code",
   "execution_count": null,
   "metadata": {},
   "outputs": [],
   "source": [
    "#Realizamos diagrama de caja o bigote\n",
    "fig5 = plt.figure(figsize =(6, 4))\n",
    "plt.boxplot(data[\"number_of_reviews\"]) \n",
    "plt.title(\"Outliers de number of reviews\")\n",
    "plt.show() "
   ]
  },
  {
   "cell_type": "code",
   "execution_count": null,
   "metadata": {},
   "outputs": [],
   "source": [
    "#Aplicación de método de distribución normal para identificar outliers, límites de 3 desviaciones estándar para variable de reviews per month\n",
    "y6=data[\"reviews_per_month\"]\n",
    "limite_superior6= y6.mean() + 3*y6.std()\n",
    "limite_inferior6= y6.mean() - 3*y6.std()\n",
    "print(\"Limite superior permitido\", limite_superior6)\n",
    "print(\"Limite inferior permitido\", limite_inferior6)"
   ]
  },
  {
   "cell_type": "code",
   "execution_count": null,
   "metadata": {},
   "outputs": [],
   "source": [
    "#Encontramos outliers\n",
    "outliers6= data[(y6>limite_superior6)|(y6<limite_inferior6)]\n",
    "outliers6"
   ]
  },
  {
   "cell_type": "code",
   "execution_count": null,
   "metadata": {},
   "outputs": [],
   "source": [
    "#Realizamos diagrama de caja o bigote\n",
    "fig6 = plt.figure(figsize =(6, 4))\n",
    "plt.boxplot(data[\"reviews_per_month\"]) \n",
    "plt.title(\"Outliers de reviews per month\")\n",
    "plt.show() "
   ]
  },
  {
   "cell_type": "code",
   "execution_count": null,
   "metadata": {},
   "outputs": [],
   "source": [
    "#Aplicación de método de distribución normal para identificar outliers, límites de 3 desviaciones estándar para variable de availability_365\n",
    "y7=data[\"availability_365\"]\n",
    "limite_superior7= y7.mean() + 3*y7.std()\n",
    "limite_inferior7= y7.mean() - 3*y7.std()\n",
    "print(\"Limite superior permitido\", limite_superior7)\n",
    "print(\"Limite inferior permitido\", limite_inferior7)"
   ]
  },
  {
   "cell_type": "code",
   "execution_count": null,
   "metadata": {},
   "outputs": [],
   "source": [
    "#Encontramos outliers\n",
    "outliers7= data[(y7>limite_superior7)|(y7<limite_inferior7)]\n",
    "outliers7"
   ]
  },
  {
   "cell_type": "code",
   "execution_count": null,
   "metadata": {},
   "outputs": [],
   "source": [
    "#Realizamos diagrama de caja o bigote\n",
    "fig7 = plt.figure(figsize =(6, 4))\n",
    "plt.boxplot(data[\"availability_365\"]) \n",
    "plt.title(\"Outliers de availability 365\")\n",
    "plt.show() "
   ]
  },
  {
   "cell_type": "code",
   "execution_count": null,
   "metadata": {},
   "outputs": [],
   "source": [
    "#Aplicar método de rango intercuartílico para identificar outliers, tomando como límites 1.5 IQR para columna latitude\n",
    "y8=data[\"latitude\"]\n",
    "\n",
    "percentile258=y8.quantile(0.25) #Q1\n",
    "percentile758=y8.quantile(0.75) #Q3\n",
    "iqr8= percentile758 - percentile258\n",
    "\n",
    "limite_superior_iqr8= percentile758 + 1.5*iqr8\n",
    "limite_inferior_iqr8= percentile258 - 1.5*iqr8\n",
    "print(\"Limite superior permitido\", limite_superior_iqr8)\n",
    "print(\"Limite inferior permitido\", limite_inferior_iqr8)"
   ]
  },
  {
   "cell_type": "code",
   "execution_count": null,
   "metadata": {},
   "outputs": [],
   "source": [
    "#Identificar outliers\n",
    "outliers_iqr8= data[(y8>limite_superior_iqr8)|(y8<limite_inferior_iqr8)]\n",
    "outliers_iqr8"
   ]
  },
  {
   "cell_type": "code",
   "execution_count": null,
   "metadata": {},
   "outputs": [],
   "source": [
    "#Aplicar método de rango intercuartílico para identificar outliers, tomando como límites 1.5 IQR para columna longitude\n",
    "y9=data[\"longitude\"]\n",
    "\n",
    "percentile259=y9.quantile(0.25) #Q1\n",
    "percentile759=y9.quantile(0.75) #Q3\n",
    "iqr9= percentile759 - percentile259\n",
    "\n",
    "limite_superior_iqr9= percentile759 + 1.5*iqr9\n",
    "limite_inferior_iqr9= percentile259 - 1.5*iqr9\n",
    "print(\"Limite superior permitido\", limite_superior_iqr9)\n",
    "print(\"Limite inferior permitido\", limite_inferior_iqr9)"
   ]
  },
  {
   "cell_type": "code",
   "execution_count": null,
   "metadata": {},
   "outputs": [],
   "source": [
    "#Identificar outliers\n",
    "outliers_iqr9= data[(y9>limite_superior_iqr9)|(y9<limite_inferior_iqr9)]\n",
    "outliers_iqr9"
   ]
  },
  {
   "cell_type": "code",
   "execution_count": null,
   "metadata": {},
   "outputs": [],
   "source": [
    "#Aplicar método de rango intercuartílico para identificar outliers, tomando como límites 1.5 IQR para columna price\n",
    "y10=data[\"price\"]\n",
    "\n",
    "percentile2510=y10.quantile(0.25) #Q1\n",
    "percentile7510=y10.quantile(0.75) #Q3\n",
    "iqr10= percentile7510 - percentile2510\n",
    "\n",
    "limite_superior_iqr10= percentile7510 + 1.5*iqr10\n",
    "limite_inferior_iqr10= percentile2510 - 1.5*iqr10\n",
    "print(\"Limite superior permitido\", limite_superior_iqr10)\n",
    "print(\"Limite inferior permitido\", limite_inferior_iqr10)"
   ]
  },
  {
   "cell_type": "code",
   "execution_count": null,
   "metadata": {},
   "outputs": [],
   "source": [
    "#Identificar outliers\n",
    "outliers_iqr10=data[(y10>limite_superior_iqr10)|(y10<limite_inferior_iqr10)]\n",
    "outliers_iqr10"
   ]
  },
  {
   "cell_type": "code",
   "execution_count": null,
   "metadata": {},
   "outputs": [],
   "source": [
    "#Aplicar método de rango intercuartílico para identificar outliers, tomando como límites 1.5 IQR para columna minimum nights\n",
    "y11=data[\"minimum_nights\"]\n",
    "\n",
    "percentile2511=y11.quantile(0.25) #Q1\n",
    "percentile7511=y11.quantile(0.75) #Q3\n",
    "iqr11= percentile7511 - percentile2511\n",
    "\n",
    "limite_superior_iqr11= percentile7511 + 1.5*iqr11\n",
    "limite_inferior_iqr11= percentile2511 - 1.5*iqr11\n",
    "print(\"Limite superior permitido\", limite_superior_iqr11)\n",
    "print(\"Limite inferior permitido\", limite_inferior_iqr11)"
   ]
  },
  {
   "cell_type": "code",
   "execution_count": null,
   "metadata": {},
   "outputs": [],
   "source": [
    "#Identificar outliers\n",
    "outliers_iqr11=data[(y11>limite_superior_iqr11)|(y11<limite_inferior_iqr11)]\n",
    "outliers_iqr11"
   ]
  },
  {
   "cell_type": "code",
   "execution_count": null,
   "metadata": {},
   "outputs": [],
   "source": [
    "#Aplicar método de rango intercuartílico para identificar outliers, tomando como límites 1.5 IQR para columna number of reviews\n",
    "y12=data[\"number_of_reviews\"]\n",
    "\n",
    "percentile2512=y12.quantile(0.25) #Q1\n",
    "percentile7512=y12.quantile(0.75) #Q3\n",
    "iqr12= percentile7512 - percentile2512\n",
    "\n",
    "limite_superior_iqr12= percentile7512 + 1.5*iqr12\n",
    "limite_inferior_iqr12= percentile2512 - 1.5*iqr12\n",
    "print(\"Limite superior permitido\", limite_superior_iqr12)\n",
    "print(\"Limite inferior permitido\", limite_inferior_iqr12)"
   ]
  },
  {
   "cell_type": "code",
   "execution_count": null,
   "metadata": {},
   "outputs": [],
   "source": [
    "#Identificar outliers\n",
    "outliers_iqr12=data[(y12>limite_superior_iqr12)|(y12<limite_inferior_iqr12)]\n",
    "outliers_iqr12"
   ]
  },
  {
   "cell_type": "code",
   "execution_count": null,
   "metadata": {},
   "outputs": [],
   "source": [
    "#Aplicar método de rango intercuartílico para identificar outliers, tomando como límites 1.5 IQR para columna reviews per month\n",
    "y13=data[\"reviews_per_month\"]\n",
    "\n",
    "percentile2513=y13.quantile(0.25) #Q1\n",
    "percentile7513=y13.quantile(0.75) #Q3\n",
    "iqr13= percentile7513 - percentile2513\n",
    "\n",
    "limite_superior_iqr13= percentile7513 + 1.5*iqr13\n",
    "limite_inferior_iqr13= percentile2513 - 1.5*iqr13\n",
    "print(\"Limite superior permitido\", limite_superior_iqr13)\n",
    "print(\"Limite inferior permitido\", limite_inferior_iqr13)"
   ]
  },
  {
   "cell_type": "code",
   "execution_count": null,
   "metadata": {},
   "outputs": [],
   "source": [
    "#Identificar outliers\n",
    "outliers_iqr13=data[(y13>limite_superior_iqr13)|(y13<limite_inferior_iqr13)]\n",
    "outliers_iqr13"
   ]
  },
  {
   "cell_type": "code",
   "execution_count": null,
   "metadata": {},
   "outputs": [],
   "source": [
    "#Aplicar método de rango intercuartílico para identificar outliers, tomando como límites 1.5 IQR para columna availability 365\n",
    "y14=data[\"availability_365\"]\n",
    "\n",
    "percentile2514=y14.quantile(0.25) #Q1\n",
    "percentile7514=y14.quantile(0.75) #Q3\n",
    "iqr14= percentile7514 - percentile2514\n",
    "\n",
    "limite_superior_iqr14= percentile7514 + 1.5*iqr14\n",
    "limite_inferior_iqr14= percentile2514 - 1.5*iqr14\n",
    "print(\"Limite superior permitido\", limite_superior_iqr14)\n",
    "print(\"Limite inferior permitido\", limite_inferior_iqr14)"
   ]
  },
  {
   "cell_type": "code",
   "execution_count": null,
   "metadata": {},
   "outputs": [],
   "source": [
    "#Identificar outliers\n",
    "outliers_iqr14=data[(y14>limite_superior_iqr14)|(y14<limite_inferior_iqr14)]\n",
    "outliers_iqr14"
   ]
  }
 ],
 "metadata": {
  "kernelspec": {
   "display_name": "Python 3.10.6 64-bit",
   "language": "python",
   "name": "python3"
  },
  "language_info": {
   "codemirror_mode": {
    "name": "ipython",
    "version": 3
   },
   "file_extension": ".py",
   "mimetype": "text/x-python",
   "name": "python",
   "nbconvert_exporter": "python",
   "pygments_lexer": "ipython3",
   "version": "3.10.6"
  },
  "orig_nbformat": 4,
  "vscode": {
   "interpreter": {
    "hash": "aee8b7b246df8f9039afb4144a1f6fd8d2ca17a180786b69acc140d282b71a49"
   }
  }
 },
 "nbformat": 4,
 "nbformat_minor": 2
}
